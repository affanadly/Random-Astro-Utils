{
 "cells": [
  {
   "cell_type": "code",
   "execution_count": 2,
   "metadata": {},
   "outputs": [],
   "source": [
    "import numpy as np\n",
    "from scipy.special import factorial\n",
    "from scipy.optimize import bisect\n",
    "from scipy.stats import norm"
   ]
  },
  {
   "attachments": {},
   "cell_type": "markdown",
   "metadata": {},
   "source": [
    "# Poisson Error\n",
    "\n",
    "Let $\\lambda_u$ and $\\lambda_l$ be the upper limit and lower limit of confidence level $CL$ for the observed number counts $N$. Then, based on Poisson statistics, these parameters are defined by\n",
    "\\begin{align*}\n",
    "    \\sum_{x = 0}^{N} \\frac{\\lambda_u^x}{x!} e^{-\\lambda_u} &= 1 - CL \\\\\n",
    "    \\sum_{x = 0}^{N-1} \\frac{\\lambda_l^x}{x!} e^{-\\lambda_l} &= CL, (N \\neq 0)\n",
    "\\end{align*}\n",
    "The lower limit for $N = 0$ is $\\lambda_l = 0$. Then, the uncertainty/error in $N$, expressed as\n",
    "\\begin{align*}\n",
    "    N^{+\\Delta N_u}_{-\\Delta N_l}\n",
    "\\end{align*}\n",
    "is given by\n",
    "\\begin{align*}\n",
    "    \\Delta N_u &= \\lambda_u - N \\\\\n",
    "    \\Delta N_l &= N - \\lambda_l\n",
    "\\end{align*}\n",
    "However, for large $N$, the expressions can be estimated by Gaussian statistics as\n",
    "\\begin{align*}\n",
    "    \\lambda_u &= N + S \\sqrt{N} \\\\\n",
    "    \\lambda_l &= N - S \\sqrt{N}\n",
    "\\end{align*}\n",
    "and consequently\n",
    "\\begin{align*}\n",
    "    \\Delta N_u &= S \\sqrt{N} \\\\\n",
    "    \\Delta N_l &= S \\sqrt{N}\n",
    "\\end{align*}\n",
    "where $S$ is the number of standard deviations for the Gaussian distribution, $\\sigma$. \n",
    "\n",
    "Note: The confidence level can be converted back and forth to the number of standard deviations $S$ for a Gaussian distribution using the following relation\n",
    "\\begin{align*}\n",
    "    CL &= \\mathrm{CDF}(S) \\\\\n",
    "    S &= \\mathrm{PPF}(CL)\n",
    "\\end{align*}\n",
    "\n",
    "where $\\mathrm{CDF}$ and $\\mathrm{PPF}$ are the cumulative distribution function and percent point function, respectively.\n",
    "\n",
    "Reference: [Gehrels, N. 1986, ApJ, 303, 336](https://ui.adsabs.harvard.edu/abs/1986ApJ...303..336G/abstract)"
   ]
  },
  {
   "cell_type": "code",
   "execution_count": 3,
   "metadata": {},
   "outputs": [],
   "source": [
    "def poisson_error(N,CL=None,sigma=None):\n",
    "    # initialize poisson functions\n",
    "    def poisson(l,x):\n",
    "        return np.power(l,x)*np.exp(-l)/factorial(x)\n",
    "    def upper_gehrels(l,N,CL):\n",
    "        x = np.arange(N+1)\n",
    "        p = poisson(l,x)\n",
    "        return np.sum(p) - (1 - CL)\n",
    "    def lower_gehrels(l,N,CL):\n",
    "        x = np.arange(N)\n",
    "        p = poisson(l,x)\n",
    "        return np.sum(p) - CL\n",
    "    \n",
    "    # initialize CL and sigma\n",
    "    if sigma:\n",
    "        CL = norm.cdf(sigma)\n",
    "    if CL:\n",
    "        sigma = norm.ppf(CL)\n",
    "    \n",
    "    if N <= 100: # bisection on exact functions\n",
    "        upper = bisect(upper_gehrels,0,N*10 + 10,args=(N,CL)) - N\n",
    "        lower = N - bisect(lower_gehrels,0,N*10 + 10,args=(N,CL)) if N > 0 else 0\n",
    "    else: # gaussian approximation\n",
    "        upper = sigma*np.sqrt(N)\n",
    "        lower = sigma*np.sqrt(N)\n",
    "    return lower, upper"
   ]
  },
  {
   "cell_type": "code",
   "execution_count": 4,
   "metadata": {},
   "outputs": [
    {
     "name": "stdout",
     "output_type": "stream",
     "text": [
      "The Poisson limits for N = 0 are: (0, 1.8410216450081407)\n",
      "The Poisson limits for N = 1 are: (0.8272462209763489, 2.299526559115975)\n",
      "The Poisson limits for N = 5 are: (2.1596911444083844, 3.3824726521453385)\n",
      "The Poisson limits for N = 10 are: (3.10869443936312, 4.26694976101075)\n",
      "The Poisson limits for N = 20 are: (4.434447982213001, 5.546519229511304)\n",
      "The Poisson limits for N = 50 are: (7.047336825856867, 8.11822460647388)\n",
      "The Poisson limits for N = 100 are: (9.983254822884845, 11.033360941150093)\n",
      "The Poisson limits for N = 200 are: (14.142135623730951, 14.142135623730951)\n",
      "The Poisson limits for N = 500 are: (22.360679774997898, 22.360679774997898)\n",
      "The Poisson limits for N = 1000 are: (31.622776601683793, 31.622776601683793)\n"
     ]
    }
   ],
   "source": [
    "for i in [0,1,5,10,20,50,100,200,500,1000]:\n",
    "    print(f'The Poisson limits for N = {i} are:',poisson_error(i,sigma=1))"
   ]
  }
 ],
 "metadata": {
  "kernelspec": {
   "display_name": "Python 3",
   "language": "python",
   "name": "python3"
  },
  "language_info": {
   "codemirror_mode": {
    "name": "ipython",
    "version": 3
   },
   "file_extension": ".py",
   "mimetype": "text/x-python",
   "name": "python",
   "nbconvert_exporter": "python",
   "pygments_lexer": "ipython3",
   "version": "3.10.8"
  },
  "orig_nbformat": 4
 },
 "nbformat": 4,
 "nbformat_minor": 2
}
