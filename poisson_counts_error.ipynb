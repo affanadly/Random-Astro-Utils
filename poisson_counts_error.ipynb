{
 "cells": [
  {
   "cell_type": "code",
   "execution_count": 25,
   "metadata": {},
   "outputs": [],
   "source": [
    "import numpy as np\n",
    "from scipy.special import factorial\n",
    "from scipy.optimize import bisect\n",
    "from scipy.stats import norm"
   ]
  },
  {
   "attachments": {},
   "cell_type": "markdown",
   "metadata": {},
   "source": [
    "# Poisson Error\n",
    "\n",
    "Let $\\lambda_u$ and $\\lambda_l$ be the upper limit and lower limit of confidence level $CL$ for the observed number counts $N$. Then, based on Poisson statistics, these parameters are defined by\n",
    "\n",
    "\\begin{align*}\n",
    "    \\sum_{x = 0}^{N} \\frac{\\lambda_u^x}{x!} e^{-\\lambda_u} &= 1 - CL \\\\\n",
    "    \\sum_{x = 0}^{N-1} \\frac{\\lambda_l^x}{x!} e^{-\\lambda_l} &= CL, (N \\neq 0)\n",
    "\\end{align*}\n",
    "\n",
    "The lower limit for $N = 0$ is $\\lambda_l = 0$. The value for CL are chosen to be the $1\\sigma$ limit for Gaussian statistics i.e. $0.8413$.\n",
    "\n",
    "Reference: [Gehrels, N. 1986, ApJ, 303, 336](https://ui.adsabs.harvard.edu/abs/1986ApJ...303..336G/abstract)"
   ]
  },
  {
   "cell_type": "code",
   "execution_count": 67,
   "metadata": {},
   "outputs": [],
   "source": [
    "def poisson_limits(N,CL=None,sigma=None):\n",
    "    # initialize poisson functions\n",
    "    def poisson(l,x):\n",
    "        return np.power(l,x)*np.exp(-l)/factorial(x)\n",
    "    def upper_gehrels(l,N,CL):\n",
    "        x = np.arange(N+1)\n",
    "        p = poisson(l,x)\n",
    "        return np.sum(p) - (1 - CL)\n",
    "    def lower_gehrels(l,N,CL):\n",
    "        x = np.arange(N)\n",
    "        p = poisson(l,x)\n",
    "        return np.sum(p) - CL\n",
    "    \n",
    "    # initialize CL and sigma\n",
    "    if sigma:\n",
    "        CL = norm.cdf(sigma)\n",
    "    if CL:\n",
    "        sigma = norm.ppf(CL)\n",
    "    \n",
    "    if N <= 100: # bisection on exact functions\n",
    "        upper = bisect(upper_gehrels,0,N*10 + 10,args=(N,CL))\n",
    "        lower = bisect(lower_gehrels,0,N*10 + 10,args=(N,CL)) if N > 0 else 0\n",
    "    else: # gaussian approximation\n",
    "        upper = sigma*np.sqrt(N) + N\n",
    "        lower = N - sigma*np.sqrt(N)\n",
    "    return lower, upper"
   ]
  },
  {
   "cell_type": "code",
   "execution_count": 68,
   "metadata": {},
   "outputs": [
    {
     "name": "stdout",
     "output_type": "stream",
     "text": [
      "The Poisson limits for N = 0 are: (0, 7.600902459543022)\n",
      "The Poisson limits for N = 1 are: (0.000500125041753563, 9.99867749762302)\n",
      "The Poisson limits for N = 5 are: (0.6324910403310469, 17.41063731823772)\n",
      "The Poisson limits for N = 10 are: (2.699033106031976, 25.255559379265122)\n",
      "The Poisson limits for N = 20 are: (8.453108207561613, 39.409829428488834)\n",
      "The Poisson limits for N = 50 are: (29.94782899328154, 77.81469073108656)\n",
      "The Poisson limits for N = 100 are: (70.33022515951772, 137.3752937205759)\n",
      "The Poisson limits for N = 200 are: (153.46492468972906, 246.53507531027094)\n",
      "The Poisson limits for N = 500 are: (426.42158546603855, 573.5784145339614)\n",
      "The Poisson limits for N = 1000 are: (895.9444082681621, 1104.055591731838)\n"
     ]
    }
   ],
   "source": [
    "for i in [0,1,5,10,20,50,100,200,500,1000]:\n",
    "    print(f'The Poisson limits for N = {i} are:',poisson_limits(i,CL=0.9995))"
   ]
  }
 ],
 "metadata": {
  "kernelspec": {
   "display_name": "Python 3",
   "language": "python",
   "name": "python3"
  },
  "language_info": {
   "codemirror_mode": {
    "name": "ipython",
    "version": 3
   },
   "file_extension": ".py",
   "mimetype": "text/x-python",
   "name": "python",
   "nbconvert_exporter": "python",
   "pygments_lexer": "ipython3",
   "version": "3.10.8"
  },
  "orig_nbformat": 4
 },
 "nbformat": 4,
 "nbformat_minor": 2
}
