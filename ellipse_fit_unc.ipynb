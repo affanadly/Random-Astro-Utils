{
 "cells": [
  {
   "cell_type": "code",
   "execution_count": 1,
   "id": "ce6691bc-8d99-47e0-ba7a-e2ed6b8892b2",
   "metadata": {},
   "outputs": [],
   "source": [
    "import numpy as np\n",
    "import ellipse as el\n",
    "from uncertainties import ufloat\n",
    "from uncertainties.umath import *\n",
    "import matplotlib.pyplot as plt"
   ]
  },
  {
   "cell_type": "markdown",
   "id": "2fea5592-6330-4566-9df9-b825a6658f24",
   "metadata": {},
   "source": [
    "# Estimation of errors in ellipse fitting\n",
    "\n",
    "The ellipse fitting under [`lsq-ellipse`](https://github.com/bdhammel/least-squares-ellipse-fitting) is done based on the polynomial fitting i.e.\n",
    "\n",
    "\\begin{equation}\n",
    "    ax^2 + bxy + cy^2 + dx + ey + f = 0\n",
    "\\end{equation}\n",
    "\n",
    "with constraints $a, c > 0, b^2 < 4ac$. "
   ]
  },
  {
   "cell_type": "code",
   "execution_count": 2,
   "id": "b43888d3-7739-4ddf-adb8-40a5fc6d06ef",
   "metadata": {
    "tags": []
   },
   "outputs": [],
   "source": [
    "def generate_ellipse(a,b,center=(0,0),n=100,phi=0,weight=0.1):\n",
    "    t = np.linspace(0,2*np.pi,n)[:-1]\n",
    "    x = a*np.cos(t)*np.cos(phi) - b*np.sin(t)*np.sin(phi) + center[0]\n",
    "    y = a*np.cos(t)*np.sin(phi) + b*np.sin(t)*np.cos(phi) + center[1]\n",
    "    x += np.random.randn(len(t))*weight\n",
    "    y += np.random.randn(len(t))*weight\n",
    "    return x,y"
   ]
  },
  {
   "cell_type": "code",
   "execution_count": 3,
   "id": "2d8cbb3b-e907-4f5d-8027-9ccc73f7da4b",
   "metadata": {},
   "outputs": [],
   "source": [
    "x,y = generate_ellipse(np.random.uniform(1,5),np.random.uniform(1,5),\n",
    "                        (np.random.uniform(1,5),np.random.uniform(1,5)),\n",
    "                        100,np.random.uniform(1,5))\n",
    "fit = el.LsqEllipse().fit(np.vstack([x,y]).T)"
   ]
  },
  {
   "cell_type": "code",
   "execution_count": 4,
   "id": "ad6f0659-fc18-43e2-947e-9452215f27fc",
   "metadata": {},
   "outputs": [
    {
     "data": {
      "text/plain": [
       "array([-0.38709174,  0.67614453, -0.626888  , -1.92693435,  4.79415697,\n",
       "       -7.19909321])"
      ]
     },
     "execution_count": 4,
     "metadata": {},
     "output_type": "execute_result"
    }
   ],
   "source": [
    "params = fit.coefficients\n",
    "params"
   ]
  },
  {
   "cell_type": "markdown",
   "id": "2fbac0f3-23e9-4cb7-98a9-e6ca41fb12b8",
   "metadata": {},
   "source": [
    "To estimate the error, we start by defining the auxilary data set, $z_{ij}$\n",
    "\n",
    "\\begin{equation}\n",
    "    z_{ij} = \\begin{pmatrix}x_j^2 \\\\ x_jy_j \\\\ y_j^2 \\\\ x_j \\\\ y_j \\\\ \\alpha_j\\end{pmatrix}\n",
    "\\end{equation}\n",
    "\n",
    "where $\\alpha_j = 1$. We then obtain the goodness of fit of the data using the chi-squared and equating it to the degrees of freedom i.e. $m-6$, giving us\n",
    "\n",
    "\\begin{equation}\n",
    "    \\chi^2 = \\sum_{j=1}^m \\frac{(\\sum_{i=1}^6a_iz_{ij}-1)^2}{\\sigma_j^2} = m - 6\n",
    "\\end{equation}\n",
    "\n",
    "where $\\sigma_j$ is the uncertainty for data point $x_j,y_j$, and the best fit parameters $\\hat{a}_i = [a, b, c, d, e, f]$ minimizes the distribution. After derivation based on McDonald, 2014 ([Google Scholar](https://scholar.google.com/citations?view_op=view_citation&hl=en&user=W9iFjWQAAAAJ&cstart=400&pagesize=100&citation_for_view=W9iFjWQAAAAJ:SgM-ki2adj0C)), we obtain the uncertainties for the parameters.\n",
    "\n",
    "\\begin{equation}\n",
    "    \\sigma_{\\hat{a}_i} = \\sqrt{\\frac{\\sum_{j=1}^m\\left(\\sum_{k=1}^6 \\hat{a}_kz_{kj} - 1\\right)^2}{(m-6)\\sum_{j=1}^m z_{ij}^2}}\n",
    "\\end{equation}\n",
    "\n",
    "To evaluate the summation terms, we utlize array multiplications. The first summation terms can be obtained using\n",
    "\n",
    "\\begin{align*}\n",
    "    \\sum_{k=1}^6 \\hat{a}_kz_{kj} &= \\hat{a} \\cdot z = z^T \\cdot \\hat{a}^T \\\\\n",
    "    & = \\begin{pmatrix}\n",
    "        x_1^2 & x_1y_1 & y_1^2 & x_1 & y_1 & 1 \\\\\n",
    "        x_2^2 & x_2y_2 & y_2^2 & x_2 & y_2 & 1 \\\\\n",
    "        x_3^2 & x_3y_3 & y_3^2 & x_3 & y_3 & 1 \\\\\n",
    "        \\vdots & \\vdots & \\vdots & \\vdots & \\vdots & \\vdots\n",
    "    \\end{pmatrix}\\begin{pmatrix}\n",
    "        \\hat{a}_1 \\\\ \\hat{a}_2 \\\\ \\hat{a}_3 \\\\ \\hat{a}_4 \\\\ \\hat{a}_5 \\\\ \\hat{a}_6\n",
    "    \\end{pmatrix} \\\\\n",
    "    &= \\begin{pmatrix}\n",
    "        ax_1^2 + bx_1y_1 + cy_1^2 + dx_1 + ey_1 + f \\\\\n",
    "        ax_2^2 + bx_2y_2 + cy_2^2 + dx_2 + ey_2 + f \\\\\n",
    "        ax_3^2 + bx_3y_3 + cy_3^2 + dx_3 + ey_3 + f \\\\\n",
    "        \\vdots\n",
    "    \\end{pmatrix}\n",
    "\\end{align*}\n",
    "\n",
    "Note: The transpose of the matrices are used here for easier visual representation, but the code implements them directly."
   ]
  },
  {
   "cell_type": "code",
   "execution_count": 5,
   "id": "475c3aee-4947-42d0-aa67-9893c56334f0",
   "metadata": {},
   "outputs": [],
   "source": [
    "# calculating uncertainty\n",
    "def unc_calc(x,y,A):\n",
    "    m = len(x)\n",
    "    z = np.array([x**2,x*y,y**2,x,y,np.ones(m)])\n",
    "    numerator = np.sum(((A @ z)-1)**2)\n",
    "    denominator = (m-6)*np.sum(z**2,axis=1)\n",
    "    unc = np.sqrt(numerator/denominator)\n",
    "    return [ufloat(i,j) for i,j in zip(A,unc)]"
   ]
  },
  {
   "cell_type": "code",
   "execution_count": 6,
   "id": "25092160-ab9d-4e9d-b6a2-adcc3653fa66",
   "metadata": {},
   "outputs": [
    {
     "data": {
      "text/plain": [
       "[-0.38709173555600573+/-0.008435519021660606,\n",
       " 0.6761445264410684+/-0.005878746246018713,\n",
       " -0.6268880024597878+/-0.003351195200384874,\n",
       " -1.926934345077174+/-0.03607063821431431,\n",
       " 4.794156974883846+/-0.02097791780169849,\n",
       " -7.1990932095238565+/-0.10699515921274204]"
      ]
     },
     "execution_count": 6,
     "metadata": {},
     "output_type": "execute_result"
    }
   ],
   "source": [
    "params = unc_calc(x,y,params)\n",
    "params"
   ]
  },
  {
   "cell_type": "markdown",
   "id": "4f836754-814a-4a24-9e61-8245dd76e83d",
   "metadata": {},
   "source": [
    "However, these are polynomial parameters and has to be converted into the usual ellipse parameters; center, semi major and minor axes, and rotation angle, so that the result has a physical significance. This also means that the errors has to be propagated, and to do so we utilize the [`uncertainties`](https://github.com/lebigot/uncertainties) package."
   ]
  },
  {
   "cell_type": "code",
   "execution_count": 7,
   "id": "13423d5b-1e57-486c-95cf-c6c78a6f18ea",
   "metadata": {},
   "outputs": [],
   "source": [
    "# converting coefficients to usual ellipse parameters with uncertainties\n",
    "def convert_w_unc(coeff):\n",
    "    a,b,c,d,f,g = coeff\n",
    "    b /= 2\n",
    "    d /= 2\n",
    "    f /= 2\n",
    "    x0 = (c*d - b*f) / (b**2. - a*c)\n",
    "    y0 = (a*f - b*d) / (b**2. - a*c)\n",
    "    center = [x0, y0]\n",
    "    numerator = 2 * (a*f**2 + c*d**2 + g*b**2 - 2*b*d*f - a*c*g)\n",
    "    denominator1 = (b*b-a*c)*((c-a)*sqrt(1+4*b*b/((a-c)*(a-c)))-(c+a))\n",
    "    denominator2 = (b*b-a*c)*((a-c)*sqrt(1+4*b*b/((a-c)*(a-c)))-(c+a))\n",
    "    width = sqrt(numerator/denominator1)\n",
    "    height = sqrt(numerator/denominator2)    \n",
    "    phi = .5*atan((2*b)/(a-c))\n",
    "    return center, width, height, phi"
   ]
  },
  {
   "cell_type": "code",
   "execution_count": 8,
   "id": "262b664b-89b1-4cd9-9758-3fc004d37983",
   "metadata": {},
   "outputs": [
    {
     "data": {
      "text/plain": [
       "([1.607846382866567+/-0.144865145460787,\n",
       "  4.690864622500416+/-0.09662235420913125],\n",
       " 4.102862179426985+/-0.19258215139382773,\n",
       " 1.6980676205056575+/-0.06191990554879165,\n",
       " 0.6149914368230587+/-0.006117523510068339)"
      ]
     },
     "execution_count": 8,
     "metadata": {},
     "output_type": "execute_result"
    }
   ],
   "source": [
    "center, a, b, phi = convert_w_unc(params)\n",
    "center, a, b, phi"
   ]
  },
  {
   "cell_type": "code",
   "execution_count": 9,
   "id": "d25d7c7e-fa08-4e65-852a-df3fa21a85aa",
   "metadata": {},
   "outputs": [
    {
     "data": {
      "image/png": "[encoded data removed]",
      "text/plain": [
       "<Figure size 432x288 with 1 Axes>"
      ]
     },
     "metadata": {
      "needs_background": "light"
     },
     "output_type": "display_data"
    }
   ],
   "source": [
    "# plot of fit\n",
    "t = np.linspace(0,2*np.pi,100)\n",
    "xx = center[0].n+a.n*np.cos(t)*np.cos(phi.n)-b.n*np.sin(t)*np.sin(phi.n)\n",
    "yy = center[1].n+a.n*np.cos(t)*np.sin(phi.n)+b.n*np.sin(t)*np.cos(phi.n)\n",
    "\n",
    "plt.plot(x,y,'xr',label='Data')\n",
    "plt.plot(xx,yy,'--b',lw=1,label='Fit')\n",
    "plt.plot(center[0].n,center[1].n,'ok')\n",
    "plt.gca().set_aspect('equal')\n",
    "plt.show()"
   ]
  }
 ],
 "metadata": {
  "kernelspec": {
   "display_name": "Python 3 (ipykernel)",
   "language": "python",
   "name": "python3"
  },
  "language_info": {
   "codemirror_mode": {
    "name": "ipython",
    "version": 3
   },
   "file_extension": ".py",
   "mimetype": "text/x-python",
   "name": "python",
   "nbconvert_exporter": "python",
   "pygments_lexer": "ipython3",
   "version": "3.9.7"
  }
 },
 "nbformat": 4,
 "nbformat_minor": 5
}
